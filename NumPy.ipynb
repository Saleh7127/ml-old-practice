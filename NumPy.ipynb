{
 "cells": [
  {
   "cell_type": "markdown",
   "id": "6cef73d4-e22d-4409-b3ab-8a1a483d2810",
   "metadata": {},
   "source": []
  },
  {
   "cell_type": "code",
   "execution_count": 30,
   "id": "f3b00448-011e-48ca-8b2a-17afed7e1f08",
   "metadata": {},
   "outputs": [],
   "source": [
    "import numpy as np"
   ]
  },
  {
   "cell_type": "markdown",
   "id": "ccc1e38d-ee68-42f1-88fd-10530218281d",
   "metadata": {
    "jp-MarkdownHeadingCollapsed": true
   },
   "source": [
    "# NumPy-based Matrix Calculator"
   ]
  },
  {
   "cell_type": "code",
   "execution_count": 36,
   "id": "15bc68f7-4979-4b5c-bcdf-4d383f4e3df2",
   "metadata": {},
   "outputs": [
    {
     "name": "stdout",
     "output_type": "stream",
     "text": [
      "\n",
      "Matrix Calculator - Choose an Operation:\n",
      "1. Addition\n",
      "2. Subtraction\n",
      "3. Multiplication\n",
      "4. Scalar Multiplication\n",
      "5. Transpose\n",
      "6. Determinant\n",
      "7. Inverse\n",
      "8. Eigenvalues & Eigenvectors\n",
      "9. Exit\n"
     ]
    },
    {
     "name": "stdin",
     "output_type": "stream",
     "text": [
      "Enter choice (1-9):  9\n"
     ]
    },
    {
     "name": "stdout",
     "output_type": "stream",
     "text": [
      "Exiting program.\n"
     ]
    }
   ],
   "source": [
    "def get_matrix():\n",
    "    \"\"\"Function to take user input for a matrix.\"\"\"\n",
    "    rows = int(input(\"Enter number of rows: \"))\n",
    "    cols = int(input(\"Enter number of columns: \"))\n",
    "    print(\"Enter matrix row by row, separating numbers with spaces:\")\n",
    "    matrix = []\n",
    "    for _ in range(rows):\n",
    "        matrix.append(list(map(float, input().split())))\n",
    "    return np.array(matrix)\n",
    "\n",
    "def matrix_operations():\n",
    "    \"\"\"Function to perform matrix operations\"\"\"\n",
    "    print(\"\\nMatrix Calculator - Choose an Operation:\")\n",
    "    print(\"1. Addition\")\n",
    "    print(\"2. Subtraction\")\n",
    "    print(\"3. Multiplication\")\n",
    "    print(\"4. Scalar Multiplication\")\n",
    "    print(\"5. Transpose\")\n",
    "    print(\"6. Determinant\")\n",
    "    print(\"7. Inverse\")\n",
    "    print(\"8. Eigenvalues & Eigenvectors\")\n",
    "    print(\"9. Exit\")\n",
    "    \n",
    "    choice = input(\"Enter choice (1-9): \")\n",
    "    \n",
    "    if choice in ('1', '2', '3'):\n",
    "        print(\"\\nEnter first matrix:\")\n",
    "        A = get_matrix()\n",
    "        print(\"\\nEnter second matrix:\")\n",
    "        B = get_matrix()\n",
    "        if choice == '1':\n",
    "            print(\"\\nResult of Addition:\")\n",
    "            print(A + B)\n",
    "        elif choice == '2':\n",
    "            print(\"\\nResult of Subtraction:\")\n",
    "            print(A - B)\n",
    "        elif choice == '3':\n",
    "            print(\"\\nResult of Multiplication:\")\n",
    "            print(np.dot(A, B))\n",
    "    \n",
    "    elif choice == '4':\n",
    "        print(\"\\nEnter matrix:\")\n",
    "        A = get_matrix()\n",
    "        scalar = float(input(\"Enter scalar value: \"))\n",
    "        print(\"\\nResult of Scalar Multiplication:\")\n",
    "        print(A * scalar)\n",
    "    \n",
    "    elif choice == '5':\n",
    "        print(\"\\nEnter matrix:\")\n",
    "        A = get_matrix()\n",
    "        print(\"\\nTranspose of the Matrix:\")\n",
    "        print(A.T)\n",
    "    \n",
    "    elif choice == '6':\n",
    "        print(\"\\nEnter square matrix:\")\n",
    "        A = get_matrix()\n",
    "        if A.shape[0] != A.shape[1]:\n",
    "            print(\"Error: Determinant can only be computed for square matrices.\")\n",
    "        else:\n",
    "            print(\"\\nDeterminant:\", np.linalg.det(A))\n",
    "    \n",
    "    elif choice == '7':\n",
    "        print(\"\\nEnter square matrix:\")\n",
    "        A = get_matrix()\n",
    "        if A.shape[0] != A.shape[1]:\n",
    "            print(\"Error: Inverse can only be computed for square matrices.\")\n",
    "        else:\n",
    "            try:\n",
    "                print(\"\\nInverse:\")\n",
    "                print(np.linalg.inv(A))\n",
    "            except np.linalg.LinAlgError:\n",
    "                print(\"Error: Matrix is singular and cannot be inverted.\")\n",
    "    \n",
    "    elif choice == '8':\n",
    "        print(\"\\nEnter square matrix:\")\n",
    "        A = get_matrix()\n",
    "        if A.shape[0] != A.shape[1]:\n",
    "            print(\"Error: Eigenvalues can only be computed for square matrices.\")\n",
    "        else:\n",
    "            eigenvalues, eigenvectors = np.linalg.eig(A)\n",
    "            print(\"\\nEigenvalues:\", eigenvalues)\n",
    "            print(\"\\nEigenvectors:\")\n",
    "            print(eigenvectors)\n",
    "    \n",
    "    elif choice == '9':\n",
    "        print(\"Exiting program.\")\n",
    "        return\n",
    "    \n",
    "    else:\n",
    "        print(\"Invalid choice. Please select a valid option.\")\n",
    "    \n",
    "    # Run again\n",
    "    matrix_operations()\n",
    "\n",
    "if __name__ == \"__main__\":\n",
    "    matrix_operations()"
   ]
  },
  {
   "cell_type": "markdown",
   "id": "b9587cd0-ef34-4d11-a4c5-6cea5b409c86",
   "metadata": {
    "jp-MarkdownHeadingCollapsed": true
   },
   "source": [
    "# Practice NumPy "
   ]
  },
  {
   "cell_type": "code",
   "execution_count": 50,
   "id": "525ecbd4-9323-48d3-846d-c5beb7a4490b",
   "metadata": {},
   "outputs": [
    {
     "name": "stdout",
     "output_type": "stream",
     "text": [
      "[1 7 3]\n"
     ]
    }
   ],
   "source": [
    "a = np.array([1,7,3])\n",
    "print(a)"
   ]
  },
  {
   "cell_type": "code",
   "execution_count": 66,
   "id": "d2e594cc-5c1a-47c4-860a-7f46f4a3fc01",
   "metadata": {},
   "outputs": [
    {
     "name": "stdout",
     "output_type": "stream",
     "text": [
      "[[1.  2.  3. ]\n",
      " [4.  5.6 3.4]]\n"
     ]
    }
   ],
   "source": [
    "b = np.array([[1.0, 2.0, 3.0], [4.0, 5.6, 3.4]], dtype='float64')\n",
    "print(b)"
   ]
  },
  {
   "cell_type": "code",
   "execution_count": 44,
   "id": "3d724405-1d9c-4926-8d0a-14a048d70908",
   "metadata": {},
   "outputs": [
    {
     "data": {
      "text/plain": [
       "2"
      ]
     },
     "execution_count": 44,
     "metadata": {},
     "output_type": "execute_result"
    }
   ],
   "source": [
    "b.ndim"
   ]
  },
  {
   "cell_type": "code",
   "execution_count": 46,
   "id": "f0ec040b-8f5e-4408-b00d-841f4417a73f",
   "metadata": {},
   "outputs": [
    {
     "data": {
      "text/plain": [
       "(2, 3)"
      ]
     },
     "execution_count": 46,
     "metadata": {},
     "output_type": "execute_result"
    }
   ],
   "source": [
    "b.shape"
   ]
  },
  {
   "cell_type": "code",
   "execution_count": 54,
   "id": "6be33417-432b-480d-b8ba-88dbc10edb15",
   "metadata": {},
   "outputs": [
    {
     "data": {
      "text/plain": [
       "1"
      ]
     },
     "execution_count": 54,
     "metadata": {},
     "output_type": "execute_result"
    }
   ],
   "source": [
    "a.ndim"
   ]
  },
  {
   "cell_type": "code",
   "execution_count": 56,
   "id": "a886eb1c-66d7-4207-af10-b7e3971d50b1",
   "metadata": {},
   "outputs": [
    {
     "data": {
      "text/plain": [
       "dtype('int64')"
      ]
     },
     "execution_count": 56,
     "metadata": {},
     "output_type": "execute_result"
    }
   ],
   "source": [
    "a.dtype"
   ]
  },
  {
   "cell_type": "code",
   "execution_count": 60,
   "id": "0afa8967-a7fe-4636-aaad-d42140dcec05",
   "metadata": {},
   "outputs": [
    {
     "data": {
      "text/plain": [
       "dtype('float64')"
      ]
     },
     "execution_count": 60,
     "metadata": {},
     "output_type": "execute_result"
    }
   ],
   "source": [
    "b.dtype"
   ]
  },
  {
   "cell_type": "code",
   "execution_count": 68,
   "id": "42a75385-f39b-4884-94ac-201fe4125b90",
   "metadata": {},
   "outputs": [
    {
     "data": {
      "text/plain": [
       "8"
      ]
     },
     "execution_count": 68,
     "metadata": {},
     "output_type": "execute_result"
    }
   ],
   "source": [
    "b.itemsize"
   ]
  },
  {
   "cell_type": "code",
   "execution_count": 70,
   "id": "7592b97d-3dde-4268-a28b-c85652984011",
   "metadata": {},
   "outputs": [
    {
     "data": {
      "text/plain": [
       "6"
      ]
     },
     "execution_count": 70,
     "metadata": {},
     "output_type": "execute_result"
    }
   ],
   "source": [
    "b.size"
   ]
  },
  {
   "cell_type": "code",
   "execution_count": 72,
   "id": "e9aab0ae-f315-4543-a97b-ba50f0e49454",
   "metadata": {},
   "outputs": [
    {
     "data": {
      "text/plain": [
       "24"
      ]
     },
     "execution_count": 72,
     "metadata": {},
     "output_type": "execute_result"
    }
   ],
   "source": [
    "a.nbytes"
   ]
  },
  {
   "cell_type": "code",
   "execution_count": 76,
   "id": "bc0b6c72-1b72-44b4-96a3-ce4dca75e9f1",
   "metadata": {},
   "outputs": [
    {
     "name": "stdout",
     "output_type": "stream",
     "text": [
      "[[1 2 3 4]\n",
      " [3 4 5 6]]\n"
     ]
    }
   ],
   "source": [
    "c = np.array([[1,2,3,4],[3,4,5,6]])\n",
    "print(c)"
   ]
  },
  {
   "cell_type": "code",
   "execution_count": 78,
   "id": "ad4a685b-8b65-4cbb-89e4-70b915863db5",
   "metadata": {},
   "outputs": [
    {
     "data": {
      "text/plain": [
       "6"
      ]
     },
     "execution_count": 78,
     "metadata": {},
     "output_type": "execute_result"
    }
   ],
   "source": [
    "c[1,3]"
   ]
  },
  {
   "cell_type": "code",
   "execution_count": 84,
   "id": "9a492337-46c9-4d4e-907c-9a84b24fcb9e",
   "metadata": {},
   "outputs": [
    {
     "data": {
      "text/plain": [
       "3"
      ]
     },
     "execution_count": 84,
     "metadata": {},
     "output_type": "execute_result"
    }
   ],
   "source": [
    "c[-2,-2]"
   ]
  },
  {
   "cell_type": "code",
   "execution_count": 86,
   "id": "5f148548-f8c4-4aef-80d3-838b84e9abf3",
   "metadata": {},
   "outputs": [
    {
     "data": {
      "text/plain": [
       "array([1, 2, 3, 4])"
      ]
     },
     "execution_count": 86,
     "metadata": {},
     "output_type": "execute_result"
    }
   ],
   "source": [
    "c[0,:]"
   ]
  },
  {
   "cell_type": "code",
   "execution_count": 88,
   "id": "61df02ac-2f2f-42bd-ac99-5310a62234e5",
   "metadata": {},
   "outputs": [
    {
     "data": {
      "text/plain": [
       "array([3, 5])"
      ]
     },
     "execution_count": 88,
     "metadata": {},
     "output_type": "execute_result"
    }
   ],
   "source": [
    "c[:,2]"
   ]
  },
  {
   "cell_type": "code",
   "execution_count": 94,
   "id": "228a7a2c-12be-4b01-a8dd-2b1d967dae7a",
   "metadata": {},
   "outputs": [
    {
     "data": {
      "text/plain": [
       "array([2])"
      ]
     },
     "execution_count": 94,
     "metadata": {},
     "output_type": "execute_result"
    }
   ],
   "source": [
    "c[0,1:2:1]"
   ]
  },
  {
   "cell_type": "code",
   "execution_count": 96,
   "id": "c118fdb5-e63a-41a8-902f-c1decbef8ec5",
   "metadata": {},
   "outputs": [],
   "source": [
    "c[1,2]=77"
   ]
  },
  {
   "cell_type": "code",
   "execution_count": 98,
   "id": "387f927b-314f-41d8-88cd-414637742485",
   "metadata": {},
   "outputs": [
    {
     "name": "stdout",
     "output_type": "stream",
     "text": [
      "[[ 1  2  3  4]\n",
      " [ 3  4 77  6]]\n"
     ]
    }
   ],
   "source": [
    "print(c)"
   ]
  },
  {
   "cell_type": "code",
   "execution_count": 100,
   "id": "7ac15d04-ca3f-4b07-9651-661276804b51",
   "metadata": {},
   "outputs": [
    {
     "name": "stdout",
     "output_type": "stream",
     "text": [
      "[[[ 1  2  3  4]\n",
      "  [ 3  4  5  6]]\n",
      "\n",
      " [[11 21 13 41]\n",
      "  [31 41 51 16]]]\n"
     ]
    }
   ],
   "source": [
    "d = np.array([[[1,2,3,4],[3,4,5,6]],[[11,21,13,41],[31,41,51,16]]])\n",
    "print(d)"
   ]
  },
  {
   "cell_type": "code",
   "execution_count": 102,
   "id": "7ff407ea-55c4-4bee-b538-6162320ff18d",
   "metadata": {},
   "outputs": [
    {
     "data": {
      "text/plain": [
       "6"
      ]
     },
     "execution_count": 102,
     "metadata": {},
     "output_type": "execute_result"
    }
   ],
   "source": [
    "d[0,1,3]"
   ]
  },
  {
   "cell_type": "code",
   "execution_count": 108,
   "id": "130c9a75-e71c-41df-aa4b-b6a86526d905",
   "metadata": {},
   "outputs": [
    {
     "data": {
      "text/plain": [
       "array([[0., 0.],\n",
       "       [0., 0.]])"
      ]
     },
     "execution_count": 108,
     "metadata": {},
     "output_type": "execute_result"
    }
   ],
   "source": [
    "np.zeros((2,2))"
   ]
  },
  {
   "cell_type": "code",
   "execution_count": 110,
   "id": "7b490a7f-76dd-4916-8977-f3342ea3b63e",
   "metadata": {},
   "outputs": [
    {
     "data": {
      "text/plain": [
       "array([[[1., 1.],\n",
       "        [1., 1.],\n",
       "        [1., 1.]],\n",
       "\n",
       "       [[1., 1.],\n",
       "        [1., 1.],\n",
       "        [1., 1.]],\n",
       "\n",
       "       [[1., 1.],\n",
       "        [1., 1.],\n",
       "        [1., 1.]],\n",
       "\n",
       "       [[1., 1.],\n",
       "        [1., 1.],\n",
       "        [1., 1.]]])"
      ]
     },
     "execution_count": 110,
     "metadata": {},
     "output_type": "execute_result"
    }
   ],
   "source": [
    "np.ones((4,3,2))"
   ]
  },
  {
   "cell_type": "code",
   "execution_count": 114,
   "id": "b48dd737-a446-48f9-a3af-7582429cb1c9",
   "metadata": {},
   "outputs": [
    {
     "data": {
      "text/plain": [
       "array([[9., 9.],\n",
       "       [9., 9.]], dtype=float32)"
      ]
     },
     "execution_count": 114,
     "metadata": {},
     "output_type": "execute_result"
    }
   ],
   "source": [
    "np.full((2,2),9,dtype='float32')"
   ]
  },
  {
   "cell_type": "code",
   "execution_count": 124,
   "id": "7faff149-4bef-4f9c-8be9-a6c17e04a386",
   "metadata": {},
   "outputs": [
    {
     "data": {
      "text/plain": [
       "array([3, 3, 3])"
      ]
     },
     "execution_count": 124,
     "metadata": {},
     "output_type": "execute_result"
    }
   ],
   "source": [
    "np.full_like(d.shape,3)"
   ]
  },
  {
   "cell_type": "code",
   "execution_count": 134,
   "id": "a4c4f328-ce4f-45b3-8da6-22af9c5ed828",
   "metadata": {},
   "outputs": [
    {
     "data": {
      "text/plain": [
       "array([[[0.95558205, 0.4093797 , 0.14290581],\n",
       "        [0.89196927, 0.15221799, 0.47016453]],\n",
       "\n",
       "       [[0.43689601, 0.49466928, 0.30913496],\n",
       "        [0.00460831, 0.94378029, 0.43473117]],\n",
       "\n",
       "       [[0.9917087 , 0.21437454, 0.66320465],\n",
       "        [0.81113363, 0.484303  , 0.06960102]],\n",
       "\n",
       "       [[0.23893628, 0.26504012, 0.43378476],\n",
       "        [0.93242299, 0.82833657, 0.6619218 ]]])"
      ]
     },
     "execution_count": 134,
     "metadata": {},
     "output_type": "execute_result"
    }
   ],
   "source": [
    "np.random.rand(4,2,3)"
   ]
  },
  {
   "cell_type": "code",
   "execution_count": 136,
   "id": "a0d4ab01-2262-459d-905e-17e0d21ddb34",
   "metadata": {},
   "outputs": [
    {
     "data": {
      "text/plain": [
       "array([0.48479195, 0.78263212, 0.65382485, 0.3398618 ])"
      ]
     },
     "execution_count": 136,
     "metadata": {},
     "output_type": "execute_result"
    }
   ],
   "source": [
    "np.random.sample(4)"
   ]
  },
  {
   "cell_type": "code",
   "execution_count": 142,
   "id": "ee5c7a0d-87c1-40f6-882b-ccb61617c375",
   "metadata": {},
   "outputs": [
    {
     "data": {
      "text/plain": [
       "array([[ 41,  81,   2],\n",
       "       [ 51, -57,   6],\n",
       "       [  5,  -8, -24]])"
      ]
     },
     "execution_count": 142,
     "metadata": {},
     "output_type": "execute_result"
    }
   ],
   "source": [
    "np.random.randint(-100,100,size=(3,3))"
   ]
  },
  {
   "cell_type": "code",
   "execution_count": 144,
   "id": "0ebb1fee-8176-4172-b96f-158ff9f4455b",
   "metadata": {},
   "outputs": [
    {
     "data": {
      "text/plain": [
       "array([[1., 0., 0., 0., 0.],\n",
       "       [0., 1., 0., 0., 0.],\n",
       "       [0., 0., 1., 0., 0.],\n",
       "       [0., 0., 0., 1., 0.],\n",
       "       [0., 0., 0., 0., 1.]])"
      ]
     },
     "execution_count": 144,
     "metadata": {},
     "output_type": "execute_result"
    }
   ],
   "source": [
    "np.identity(5)"
   ]
  },
  {
   "cell_type": "code",
   "execution_count": 164,
   "id": "7397a3f1-6483-4f05-ad38-1c32ff203aea",
   "metadata": {},
   "outputs": [
    {
     "name": "stdout",
     "output_type": "stream",
     "text": [
      "[[1 2 4]\n",
      " [1 2 4]\n",
      " [1 2 4]]\n"
     ]
    }
   ],
   "source": [
    "arr = np.array([[1,2,4]])\n",
    "r1 = np.repeat(arr,3,axis=0)\n",
    "print(r1)"
   ]
  },
  {
   "cell_type": "code",
   "execution_count": 168,
   "id": "3ed4f37a-0e74-43cf-8273-3d145b963908",
   "metadata": {},
   "outputs": [
    {
     "name": "stdout",
     "output_type": "stream",
     "text": [
      "[[1. 1. 1. 1.]\n",
      " [1. 1. 1. 1.]\n",
      " [1. 1. 1. 1.]\n",
      " [1. 1. 1. 1.]]\n"
     ]
    }
   ],
   "source": [
    "out = np.ones((4,4))\n",
    "print(out)"
   ]
  },
  {
   "cell_type": "code",
   "execution_count": 176,
   "id": "f13f32c5-5b4c-459b-af75-015a3e968edd",
   "metadata": {},
   "outputs": [
    {
     "name": "stdout",
     "output_type": "stream",
     "text": [
      "[[ 0.  0.  0.]\n",
      " [ 0. 56.  0.]\n",
      " [ 0.  0.  0.]]\n"
     ]
    }
   ],
   "source": [
    "z = np.zeros((3,3))\n",
    "z[1,1]=56\n",
    "print(z)\n",
    "out[0:-1,0:-1]=z"
   ]
  },
  {
   "cell_type": "code",
   "execution_count": 188,
   "id": "88ff15cd-5e15-4bba-babe-78989526ff85",
   "metadata": {},
   "outputs": [
    {
     "data": {
      "text/plain": [
       "array([1, 2, 3])"
      ]
     },
     "execution_count": 188,
     "metadata": {},
     "output_type": "execute_result"
    }
   ],
   "source": [
    "aa = np.array([1,2,3])\n",
    "aa"
   ]
  },
  {
   "cell_type": "code",
   "execution_count": 192,
   "id": "2dd4f188-08ee-4635-a92e-c8f3b0e7ceb9",
   "metadata": {},
   "outputs": [
    {
     "data": {
      "text/plain": [
       "array([122,   2,   3])"
      ]
     },
     "execution_count": 192,
     "metadata": {},
     "output_type": "execute_result"
    }
   ],
   "source": [
    "bb = aa.copy();\n",
    "bb[0]=122\n",
    "bb"
   ]
  },
  {
   "cell_type": "code",
   "execution_count": 194,
   "id": "6df7fa9e-63ee-4cfc-820d-4bf8b8f39523",
   "metadata": {},
   "outputs": [
    {
     "data": {
      "text/plain": [
       "array([124,   4,   5])"
      ]
     },
     "execution_count": 194,
     "metadata": {},
     "output_type": "execute_result"
    }
   ],
   "source": [
    "bb+2"
   ]
  },
  {
   "cell_type": "code",
   "execution_count": 196,
   "id": "adc2fcbf-ec9e-4a0d-a63a-a77460d71a9a",
   "metadata": {},
   "outputs": [
    {
     "data": {
      "text/plain": [
       "array([ 78, -42, -41])"
      ]
     },
     "execution_count": 196,
     "metadata": {},
     "output_type": "execute_result"
    }
   ],
   "source": [
    "bb-44"
   ]
  },
  {
   "cell_type": "code",
   "execution_count": 198,
   "id": "d9294fb6-e266-4c2f-987a-3f8e50f29133",
   "metadata": {},
   "outputs": [
    {
     "data": {
      "text/plain": [
       "array([-0.86676709, -0.41614684, -0.9899925 ])"
      ]
     },
     "execution_count": 198,
     "metadata": {},
     "output_type": "execute_result"
    }
   ],
   "source": [
    "np.cos(bb)"
   ]
  },
  {
   "cell_type": "code",
   "execution_count": 204,
   "id": "8c2ce2b5-2bee-44a1-a569-de897d28613f",
   "metadata": {},
   "outputs": [],
   "source": [
    "#Linear"
   ]
  },
  {
   "cell_type": "code",
   "execution_count": 220,
   "id": "6bb4cedb-1532-4e8d-ad4f-c2c686ce7a1a",
   "metadata": {},
   "outputs": [
    {
     "name": "stdout",
     "output_type": "stream",
     "text": [
      "[[1. 1. 1. 1.]\n",
      " [1. 1. 1. 1.]]\n",
      "[[2 2 2]\n",
      " [2 2 2]\n",
      " [2 2 2]\n",
      " [2 2 2]]\n"
     ]
    }
   ],
   "source": [
    "x = np.ones((2,4))\n",
    "print(x)\n",
    "y = np.full((4,3),2)\n",
    "print(y)"
   ]
  },
  {
   "cell_type": "code",
   "execution_count": 222,
   "id": "414d5c28-7615-4e3f-9eac-5d8b19d8e57a",
   "metadata": {},
   "outputs": [
    {
     "data": {
      "text/plain": [
       "array([[8., 8., 8.],\n",
       "       [8., 8., 8.]])"
      ]
     },
     "execution_count": 222,
     "metadata": {},
     "output_type": "execute_result"
    }
   ],
   "source": [
    "np.matmul(x,y)"
   ]
  },
  {
   "cell_type": "markdown",
   "id": "e7807389-a4e4-4b1e-830b-1262bb5478ab",
   "metadata": {},
   "source": [
    "### Stat"
   ]
  },
  {
   "cell_type": "code",
   "execution_count": 230,
   "id": "e6fd4430-0a9e-4a18-87ac-43e516cdaf69",
   "metadata": {},
   "outputs": [
    {
     "data": {
      "text/plain": [
       "array([ 4,  6,  8, 10])"
      ]
     },
     "execution_count": 230,
     "metadata": {},
     "output_type": "execute_result"
    }
   ],
   "source": [
    "s = np.array([[1,2,3,4],[3,4,5,6]])\n",
    "np.sum(s,axis=0)"
   ]
  },
  {
   "cell_type": "code",
   "execution_count": 232,
   "id": "521beb58-a4bc-4dd4-98ad-47b4c0bde3e0",
   "metadata": {},
   "outputs": [
    {
     "data": {
      "text/plain": [
       "array([[3, 4, 5, 6],\n",
       "       [1, 2, 3, 4],\n",
       "       [3, 4, 5, 6]])"
      ]
     },
     "execution_count": 232,
     "metadata": {},
     "output_type": "execute_result"
    }
   ],
   "source": [
    "v = np.array([1,2,3,4])\n",
    "w = np.array([3,4,5,6])\n",
    "\n",
    "np.vstack([w,v,w])"
   ]
  },
  {
   "cell_type": "code",
   "execution_count": 234,
   "id": "bd881cac-7001-4bf9-9c69-ac24d825e990",
   "metadata": {},
   "outputs": [
    {
     "data": {
      "text/plain": [
       "array([3, 4, 5, 6, 3, 4, 5, 6, 1, 2, 3, 4])"
      ]
     },
     "execution_count": 234,
     "metadata": {},
     "output_type": "execute_result"
    }
   ],
   "source": [
    "np.hstack((w,w,v))"
   ]
  },
  {
   "cell_type": "code",
   "execution_count": 242,
   "id": "b01e19d5-d0c6-4205-919a-f0ad8e5935b8",
   "metadata": {},
   "outputs": [
    {
     "name": "stdout",
     "output_type": "stream",
     "text": [
      "[[ 1.  3.  4.  5.  6.]\n",
      " [ 3.  4.  5.  6.  7.]\n",
      " [ 2.  3.  4.  5.  7.]\n",
      " [ 9.  0.  5.  5.  6.]\n",
      " [ 1.  2. 33. 34.  4.]]\n"
     ]
    }
   ],
   "source": [
    "data = np.genfromtxt('num.text',delimiter=',')\n",
    "print(data)"
   ]
  },
  {
   "cell_type": "code",
   "execution_count": 244,
   "id": "47c9dc87-ea37-4fef-83d7-066bc3cba754",
   "metadata": {},
   "outputs": [
    {
     "data": {
      "text/plain": [
       "array([[ 1,  3,  4,  5,  6],\n",
       "       [ 3,  4,  5,  6,  7],\n",
       "       [ 2,  3,  4,  5,  7],\n",
       "       [ 9,  0,  5,  5,  6],\n",
       "       [ 1,  2, 33, 34,  4]], dtype=int32)"
      ]
     },
     "execution_count": 244,
     "metadata": {},
     "output_type": "execute_result"
    }
   ],
   "source": [
    "data.astype('int32')"
   ]
  },
  {
   "cell_type": "code",
   "execution_count": 252,
   "id": "75dc2a41-1a61-4e7e-9161-7b1c47f8a775",
   "metadata": {},
   "outputs": [
    {
     "data": {
      "text/plain": [
       "array([[False,  True,  True,  True,  True],\n",
       "       [ True,  True,  True,  True,  True],\n",
       "       [False,  True,  True,  True,  True],\n",
       "       [ True, False,  True,  True,  True],\n",
       "       [False, False,  True,  True,  True]])"
      ]
     },
     "execution_count": 252,
     "metadata": {},
     "output_type": "execute_result"
    }
   ],
   "source": [
    "data>=3"
   ]
  },
  {
   "cell_type": "code",
   "execution_count": 250,
   "id": "02695978-65b9-46da-a57a-b52335a795e5",
   "metadata": {},
   "outputs": [
    {
     "data": {
      "text/plain": [
       "array([ 3.,  4.,  5.,  6.,  3.,  4.,  5.,  6.,  7.,  3.,  4.,  5.,  7.,\n",
       "        9.,  5.,  5.,  6., 33., 34.,  4.])"
      ]
     },
     "execution_count": 250,
     "metadata": {},
     "output_type": "execute_result"
    }
   ],
   "source": [
    "data[data>=3]"
   ]
  },
  {
   "cell_type": "code",
   "execution_count": 256,
   "id": "98cd1f6f-c477-4cf4-8fb1-3b9b39ebc436",
   "metadata": {},
   "outputs": [
    {
     "data": {
      "text/plain": [
       "array([2, 2, 2])"
      ]
     },
     "execution_count": 256,
     "metadata": {},
     "output_type": "execute_result"
    }
   ],
   "source": [
    "q = np.array([1,2,2,2,3,4,5,6])\n",
    "q[[1,2,3]]\n"
   ]
  },
  {
   "cell_type": "code",
   "execution_count": 270,
   "id": "4de36aee-649d-436e-9e5b-e21c5533ad97",
   "metadata": {},
   "outputs": [
    {
     "data": {
      "text/plain": [
       "array([False, False, False, False, False])"
      ]
     },
     "execution_count": 270,
     "metadata": {},
     "output_type": "execute_result"
    }
   ],
   "source": [
    "np.all(data>30, axis=1)"
   ]
  },
  {
   "cell_type": "code",
   "execution_count": 272,
   "id": "d46679fc-21f3-4032-907c-233ca08c93f6",
   "metadata": {},
   "outputs": [
    {
     "data": {
      "text/plain": [
       "array([[3., 4.],\n",
       "       [0., 5.]])"
      ]
     },
     "execution_count": 272,
     "metadata": {},
     "output_type": "execute_result"
    }
   ],
   "source": [
    "data[2:4,1:3]"
   ]
  },
  {
   "cell_type": "code",
   "execution_count": 274,
   "id": "13dd4a05-0dd1-42b7-8d60-022da59e9809",
   "metadata": {},
   "outputs": [
    {
     "data": {
      "text/plain": [
       "array([3., 5., 5., 6.])"
      ]
     },
     "execution_count": 274,
     "metadata": {},
     "output_type": "execute_result"
    }
   ],
   "source": [
    "data[[0,1,2,3],[1,2,3,4]]"
   ]
  },
  {
   "cell_type": "code",
   "execution_count": 5,
   "id": "0660ba53-e3a5-40c6-b121-e9bee9eeb163",
   "metadata": {},
   "outputs": [
    {
     "name": "stdout",
     "output_type": "stream",
     "text": [
      "[[ 3  7 11]\n",
      " [ 9 13 17]]\n"
     ]
    }
   ],
   "source": [
    "a1 = np.array([2, 4, 6])\n",
    "a2 = np.array([[1, 3, 5], [7, 9, 11]])\n",
    "res = a1 + a2\n",
    "print(res)"
   ]
  },
  {
   "cell_type": "code",
   "execution_count": 7,
   "id": "ea2eac85-2d6b-44d8-84d7-7f2890b93d63",
   "metadata": {},
   "outputs": [
    {
     "name": "stdout",
     "output_type": "stream",
     "text": [
      "[[  2.4   8.7  31.2]\n",
      " [157.2  70.8 292. ]\n",
      " [165.6  95.1 191.2]\n",
      " [ 43.2  33.   39.2]]\n"
     ]
    }
   ],
   "source": [
    "food_data = np.array([[0.8, 2.9, 3.9], \n",
    "                      [52.4, 23.6, 36.5],\n",
    "                      [55.2, 31.7, 23.9],\n",
    "                      [14.4, 11, 4.9]])\n",
    "# Caloric values per gram\n",
    "caloric_values = np.array([3, 3, 8]) \n",
    "# Broadcast caloric values to match food data\n",
    "caloric_matrix = caloric_values \n",
    "\n",
    "# Calculate calorie breakdown for each food\n",
    "calorie_breakdown = food_data * caloric_matrix\n",
    "print(calorie_breakdown)"
   ]
  },
  {
   "cell_type": "code",
   "execution_count": null,
   "id": "265fea53-cf8e-4674-81c3-61e01218a563",
   "metadata": {},
   "outputs": [
    {
     "name": "stdout",
     "output_type": "stream",
     "text": [
      "\n",
      "Matrix Calculator - Choose an Operation:\n",
      "1. Addition\n",
      "2. Subtraction\n",
      "3. Multiplication\n",
      "4. Scalar Multiplication\n",
      "5. Transpose\n",
      "6. Determinant\n",
      "7. Inverse\n",
      "8. Eigenvalues & Eigenvectors\n",
      "9. Exit\n"
     ]
    },
    {
     "name": "stdin",
     "output_type": "stream",
     "text": [
      "Enter choice (1-9):  8\n"
     ]
    },
    {
     "name": "stdout",
     "output_type": "stream",
     "text": [
      "\n",
      "Enter square matrix:\n"
     ]
    },
    {
     "name": "stdin",
     "output_type": "stream",
     "text": [
      "Enter number of rows:  2\n",
      "Enter number of columns:  2\n"
     ]
    },
    {
     "name": "stdout",
     "output_type": "stream",
     "text": [
      "Enter matrix row by row, separating numbers with spaces:\n"
     ]
    },
    {
     "name": "stdin",
     "output_type": "stream",
     "text": [
      " 2 3\n",
      " 3 4\n"
     ]
    },
    {
     "name": "stdout",
     "output_type": "stream",
     "text": [
      "\n",
      "Eigenvalues: [-0.16227766  6.16227766]\n",
      "\n",
      "Eigenvectors:\n",
      "[[-0.81124219 -0.58471028]\n",
      " [ 0.58471028 -0.81124219]]\n",
      "\n",
      "Matrix Calculator - Choose an Operation:\n",
      "1. Addition\n",
      "2. Subtraction\n",
      "3. Multiplication\n",
      "4. Scalar Multiplication\n",
      "5. Transpose\n",
      "6. Determinant\n",
      "7. Inverse\n",
      "8. Eigenvalues & Eigenvectors\n",
      "9. Exit\n"
     ]
    }
   ],
   "source": [
    "def get_matrix():\n",
    "    \"\"\"Function to take user input for a matrix.\"\"\"\n",
    "    rows = int(input(\"Enter number of rows: \"))\n",
    "    cols = int(input(\"Enter number of columns: \"))\n",
    "    print(\"Enter matrix row by row, separating numbers with spaces:\")\n",
    "    matrix = []\n",
    "    for _ in range(rows):\n",
    "        matrix.append(list(map(float, input().split())))\n",
    "    return np.array(matrix)\n",
    "\n",
    "def matrix_operations():\n",
    "    \"\"\"Function to perform matrix operations.\"\"\"\n",
    "    print(\"\\nMatrix Calculator - Choose an Operation:\")\n",
    "    print(\"1. Addition\")\n",
    "    print(\"2. Subtraction\")\n",
    "    print(\"3. Multiplication\")\n",
    "    print(\"4. Scalar Multiplication\")\n",
    "    print(\"5. Transpose\")\n",
    "    print(\"6. Determinant\")\n",
    "    print(\"7. Inverse\")\n",
    "    print(\"8. Eigenvalues & Eigenvectors\")\n",
    "    print(\"9. Exit\")\n",
    "    \n",
    "    choice = input(\"Enter choice (1-9): \")\n",
    "    \n",
    "    if choice in ('1', '2', '3'):\n",
    "        print(\"\\nEnter first matrix:\")\n",
    "        A = get_matrix()\n",
    "        print(\"\\nEnter second matrix:\")\n",
    "        B = get_matrix()\n",
    "        if choice == '1':\n",
    "            print(\"\\nResult of Addition:\")\n",
    "            print(A + B)\n",
    "        elif choice == '2':\n",
    "            print(\"\\nResult of Subtraction:\")\n",
    "            print(A - B)\n",
    "        elif choice == '3':\n",
    "            print(\"\\nResult of Multiplication:\")\n",
    "            print(np.dot(A, B))\n",
    "    \n",
    "    elif choice == '4':\n",
    "        print(\"\\nEnter matrix:\")\n",
    "        A = get_matrix()\n",
    "        scalar = float(input(\"Enter scalar value: \"))\n",
    "        print(\"\\nResult of Scalar Multiplication:\")\n",
    "        print(A * scalar)\n",
    "    \n",
    "    elif choice == '5':\n",
    "        print(\"\\nEnter matrix:\")\n",
    "        A = get_matrix()\n",
    "        print(\"\\nTranspose of the Matrix:\")\n",
    "        print(A.T)\n",
    "    \n",
    "    elif choice == '6':\n",
    "        print(\"\\nEnter square matrix:\")\n",
    "        A = get_matrix()\n",
    "        if A.shape[0] != A.shape[1]:\n",
    "            print(\"Error: Determinant can only be computed for square matrices.\")\n",
    "        else:\n",
    "            print(\"\\nDeterminant:\", np.linalg.det(A))\n",
    "    \n",
    "    elif choice == '7':\n",
    "        print(\"\\nEnter square matrix:\")\n",
    "        A = get_matrix()\n",
    "        if A.shape[0] != A.shape[1]:\n",
    "            print(\"Error: Inverse can only be computed for square matrices.\")\n",
    "        else:\n",
    "            try:\n",
    "                print(\"\\nInverse:\")\n",
    "                print(np.linalg.inv(A))\n",
    "            except np.linalg.LinAlgError:\n",
    "                print(\"Error: Matrix is singular and cannot be inverted.\")\n",
    "    \n",
    "    elif choice == '8':\n",
    "        print(\"\\nEnter square matrix:\")\n",
    "        A = get_matrix()\n",
    "        if A.shape[0] != A.shape[1]:\n",
    "            print(\"Error: Eigenvalues can only be computed for square matrices.\")\n",
    "        else:\n",
    "            eigenvalues, eigenvectors = np.linalg.eig(A)\n",
    "            print(\"\\nEigenvalues:\", eigenvalues)\n",
    "            print(\"\\nEigenvectors:\")\n",
    "            print(eigenvectors)\n",
    "    \n",
    "    elif choice == '9':\n",
    "        print(\"Exiting program.\")\n",
    "        return\n",
    "    \n",
    "    else:\n",
    "        print(\"Invalid choice. Please select a valid option.\")\n",
    "    \n",
    "    # Run again\n",
    "    matrix_operations()\n",
    "\n",
    "if __name__ == \"__main__\":\n",
    "    matrix_operations()\n"
   ]
  },
  {
   "cell_type": "code",
   "execution_count": 14,
   "id": "0c00b927-c10a-491e-af02-b5400c7bab1a",
   "metadata": {},
   "outputs": [
    {
     "name": "stdout",
     "output_type": "stream",
     "text": [
      "Dot Product  :  (-7+22j)\n"
     ]
    }
   ],
   "source": [
    "vector_a = 2 + 3j\n",
    "vector_b = 4 + 5j\n",
    " \n",
    "product = np.dot(vector_a, vector_b)\n",
    "print(\"Dot Product  : \", product)"
   ]
  }
 ],
 "metadata": {
  "kernelspec": {
   "display_name": "Python 3 (ipykernel)",
   "language": "python",
   "name": "python3"
  },
  "language_info": {
   "codemirror_mode": {
    "name": "ipython",
    "version": 3
   },
   "file_extension": ".py",
   "mimetype": "text/x-python",
   "name": "python",
   "nbconvert_exporter": "python",
   "pygments_lexer": "ipython3",
   "version": "3.12.2"
  }
 },
 "nbformat": 4,
 "nbformat_minor": 5
}
